{
 "cells": [
  {
   "cell_type": "markdown",
   "id": "5ed1a5e8-cbc5-43b1-9a5b-d604a7b28278",
   "metadata": {},
   "source": [
    "# Imports"
   ]
  },
  {
   "cell_type": "code",
   "execution_count": 1,
   "id": "cf962065-246d-4dce-b419-65cea3e2e641",
   "metadata": {},
   "outputs": [
    {
     "name": "stdout",
     "output_type": "stream",
     "text": [
      "Running...\n",
      "Welcome to JupyROOT 6.28/06\n",
      "Finished.\n"
     ]
    }
   ],
   "source": [
    "print('Running...')\n",
    "\n",
    "from pathlib import Path\n",
    "import os\n",
    "HERE = Path(os.path.abspath(''))\n",
    "os.chdir(HERE.parent)\n",
    "\n",
    "# config imports\n",
    "from cfg import config\n",
    "\n",
    "# custom beacon imports\n",
    "from analysis.reader import Reader\n",
    "from analysis.sinesubtraction import SineSubtract\n",
    "from analysis import reconstruction\n",
    "from analysis import utils\n",
    "\n",
    "# standard imports\n",
    "import numpy as np\n",
    "from matplotlib import pyplot as plt\n",
    "from scipy.signal import savgol_filter\n",
    "import pandas as pd\n",
    "from glob import glob\n",
    "\n",
    "# import for interactive viewing\n",
    "from tqdm.auto import tqdm\n",
    "from ipywidgets import interact\n",
    "import ipywidgets as widgets\n",
    "from IPython.display import display\n",
    "\n",
    "os.chdir(HERE)\n",
    "\n",
    "print('Finished.')"
   ]
  },
  {
   "cell_type": "markdown",
   "id": "3a9126fc-3b6c-4077-a05e-2bb2a10eb682",
   "metadata": {
    "jp-MarkdownHeadingCollapsed": true
   },
   "source": [
    "# Test Config"
   ]
  },
  {
   "cell_type": "code",
   "execution_count": null,
   "id": "c15621b9-baea-473e-87b5-adb382b8891c",
   "metadata": {},
   "outputs": [],
   "source": [
    "print(f'Datapath: {config.BEACON_DATAPATH}')\n",
    "print(f'Runs: Length = {len(config.RUNS)}, Last = {config.RUNS[-1]}')\n",
    "print(f'Sample Rate: {config.SAMPLE_RATE} S/s')\n",
    "print(f'ADC Range: {config.ADC_RANGE} ADU')\n",
    "print(f'Sample Size: {config.SAMPLE_SIZE}')\n",
    "print(f'Scint Mapping: {config.SCINT_MAP}')\n",
    "print(f'HPOL Mapping: {config.HPOL_MAP}')\n",
    "print(f'VPOL Mapping: {config.VPOL_MAP}')\n",
    "print(f'HPOL Positions: {config.RF_HPOL_POS}')\n",
    "print(f'HPOL Delays: {config.RF_HPOL_DELAYS}')\n",
    "print(f'VPOL Positions: {config.RF_VPOL_POS}')\n",
    "print(f'VPOL Delays: {config.RF_VPOL_DELAYS}')\n",
    "print(f'Scint Corner Positions: {config.SCINT_POS_CORNERS}')\n",
    "print(f'Scint Center Positions: {config.SCINT_POS}')\n",
    "print(f'Scint Delays: {config.SCINT_DELAYS}')\n",
    "print(f'Scint N-S Tilts: {config.SCINT_TILTS_NS}')\n",
    "print(f'Scint E-W Tilts: {config.SCINT_TILTS_EW}')\n",
    "print(f'Scint Dimensions: {config.SCINT_DIMENSIONS}')\n",
    "print(f'Scint Face Normal Vectors: {config.SCINT_FACE_NORMALS}')\n",
    "print(f'RF Reconstruction Required Number of Antennas: {config.RF_RECON_REQUISITE}')\n",
    "print(f'Scint Reconstruction Required Number of Scintillators: {config.SCINT_RECON_REQUISITE}')\n",
    "print(f'Scint Amplitude Exclusion Threshold for Reconstruction: {config.SCINT_EXCLUSION_THRESHOLD}')"
   ]
  },
  {
   "cell_type": "markdown",
   "id": "d2a3ae43-1ecf-4fb1-9b4a-05f15a994f77",
   "metadata": {},
   "source": [
    "# Test Reader"
   ]
  },
  {
   "cell_type": "code",
   "execution_count": 16,
   "id": "b04d3be4-45cc-46fb-b748-cb1424b1f3b1",
   "metadata": {},
   "outputs": [
    {
     "data": {
      "application/vnd.jupyter.widget-view+json": {
       "model_id": "767a0ca801ed4a20be41e492ba9c8269",
       "version_major": 2,
       "version_minor": 0
      },
      "text/plain": [
       "interactive(children=(IntText(value=0, description='Run: '), IntText(value=0, description='Entry: '), Dropdown…"
      ]
     },
     "metadata": {},
     "output_type": "display_data"
    }
   ],
   "source": [
    "run = widgets.IntText(\n",
    "        value=0,\n",
    "        description='Run: ',\n",
    "        disabled=False,\n",
    "        continuous_update=False,\n",
    "        orientation='horizontal',\n",
    "    )\n",
    "entry = widgets.IntText(\n",
    "        value=0,\n",
    "        description='Entry: ',\n",
    "        disabled=False,\n",
    "        continuous_update=False,\n",
    "        orientation='horizontal',\n",
    "    )\n",
    "trigType = widgets.Dropdown(\n",
    "        options={None:None, 'SW':1,'COIN': 4},\n",
    "        value=None,\n",
    "        description='Trig Type: ',\n",
    "        disabled=False,\n",
    "        continuous_update=False,\n",
    "        orientation='horizontal',\n",
    "    )\n",
    "\n",
    "@interact(run=run, entry=entry, trigType=trigType)\n",
    "def runWidget(run, entry, trigType):\n",
    "    reader = Reader(config.BEACON_DATAPATH, run)\n",
    "\n",
    "    event = entry\n",
    "    if not (trigType is None):\n",
    "        trigger_types = reader.loadTriggerTypes()\n",
    "        eventids = np.where(trigger_types == trigType)[0]\n",
    "        event = eventids[entry]\n",
    "    \n",
    "    reader.setEntry(event) # sets reader to a specific event\n",
    "    \n",
    "    fig, axes = plt.subplots(ncols=4, nrows=4, figsize=[20,10])\n",
    "    fig.suptitle(f'Run {run} Event {event}')\n",
    "    fig.supxlabel('Time [ns]'); fig.supylabel('Voltage [ADU]')\n",
    "    for ch, ax in zip(list(range(16)), axes.ravel()):\n",
    "        ax.plot(reader.t(), reader.wf(ch))\n",
    "    fig.tight_layout(pad=1)"
   ]
  },
  {
   "cell_type": "markdown",
   "id": "606ab302-9c5a-44cf-8735-faa9b6d44eb4",
   "metadata": {},
   "source": [
    "# Test Reconstruction"
   ]
  },
  {
   "cell_type": "code",
   "execution_count": 2,
   "id": "aa337c2c-a52f-4376-a0dc-8524f38d1a34",
   "metadata": {},
   "outputs": [
    {
     "data": {
      "application/vnd.jupyter.widget-view+json": {
       "model_id": "880d7df3e990461fb513f4f31758e5e7",
       "version_major": 2,
       "version_minor": 0
      },
      "text/plain": [
       "interactive(children=(SelectionSlider(description='Entry:', options=(0, 1, 2, 3, 4, 5, 6, 7, 8, 9, 10, 11, 12,…"
      ]
     },
     "metadata": {},
     "output_type": "display_data"
    }
   ],
   "source": [
    "# RF\n",
    "CWsub = SineSubtract(0, 0.125, 0.03)\n",
    "reader = Reader(config.BEACON_DATAPATH, 251)\n",
    "\n",
    "entry = widgets.SelectionSlider(\n",
    "        options=np.arange(len(reader.loadTriggerTypes())),\n",
    "        value=0,\n",
    "        description='Entry:',\n",
    "        disabled=False,\n",
    "        continuous_update=True,\n",
    "        orientation='horizontal',\n",
    "    )\n",
    "@interact(entry=entry)\n",
    "def run(entry):\n",
    "# entry=6\n",
    "    corr = reconstruction.mapRF(reader, entry, 'h', CWsub=CWsub, resolution=0.25, upsample_factor=100, plot=True, verbose=1, mask=9)[0]#True)\n",
    "    print(f'Score: {np.max(corr)}')\n",
    "\n",
    "display()"
   ]
  },
  {
   "cell_type": "code",
   "execution_count": 6,
   "id": "130ea4cd-c8a8-48a1-b58a-715974ca78fd",
   "metadata": {},
   "outputs": [
    {
     "name": "stdout",
     "output_type": "stream",
     "text": [
      "Too many non-zero scint channels. See \"SCINT_RECON_REQUISITE\" and \"SCINT_EXCLUSION_THRESHOLD\" in cfg.config.\n",
      "Returned Arrival Times: nan\n",
      "Score: nan\n"
     ]
    }
   ],
   "source": [
    "# scint\n",
    "reader = Reader(config.BEACON_DATAPATH, 270)\n",
    "corr,_,_,arrTimes = reconstruction.mapScint(reader, 5670, resolution=0.25, plot=1, verbose=1, plot_contours=1)#[1,1,0])\n",
    "print(f'Returned Arrival Times: {arrTimes}')\n",
    "print(f'Score: {np.max(corr)}')\n",
    "\n",
    "if ~np.isnan(corr):\n",
    "    # quantify spread; akin to FWHM\n",
    "    phiMap = np.sum(corr, axis=0)\n",
    "    thetaMap = np.sum(corr, axis=1)\n",
    "    phiSpread = len(phiMap[phiMap >= 0.5*np.max(phiMap)])*0.25\n",
    "    thetaSpread = len(thetaMap[thetaMap >= 0.5*np.max(thetaMap)])*0.25\n",
    "    \"\"\"\n",
    "    Zenith Spread : real number\n",
    "        A quantification for the 'spread' of the probability map, using the total size of FWHM's of each peak in Zenith.\n",
    "    Azimuth Spread : real number\n",
    "        A quantification for the 'spread' of the probability map, using the total size of FWHM's of each peak in Azimuth.\n",
    "    \"\"\"\n",
    "    # 1d distributions and spread\n",
    "    phi = np.arange(-180, 180+0.25/2, 0.25)\n",
    "    theta = np.arange(0, 180+0.25/2, 0.25)\n",
    "    fspread,aspread = plt.subplots(ncols=2,figsize=[15,2])\n",
    "    aspread[0].plot(theta, thetaMap)\n",
    "    aspread[0].plot(theta[thetaMap >= 0.5*np.max(thetaMap)], thetaMap[thetaMap >= 0.5*np.max(thetaMap)], c='red')\n",
    "    aspread[0].axhline(0.5*np.max(thetaMap), ls='--', alpha=0.5, color='gray')\n",
    "    aspread[0].set(ylabel='Density', xlabel='Zenith')\n",
    "    aspread[1].plot(phi, phiMap)\n",
    "    aspread[1].plot(phi[phiMap >= 0.5*np.max(phiMap)], phiMap[phiMap >= 0.5*np.max(phiMap)], c='red')\n",
    "    aspread[1].axhline(0.5*np.max(phiMap), ls='--', alpha=0.5, color='gray')\n",
    "    aspread[1].set(ylabel='Density', xlabel='Azimuth')\n",
    "    print(f'Zenith, Azimuth \"Spread\" = {thetaSpread}, {phiSpread}')"
   ]
  },
  {
   "cell_type": "markdown",
   "id": "f9831cd0-25b7-4f0f-8297-37fe933f1fb4",
   "metadata": {},
   "source": [
    "# Test Scint Peak, Risetime, and Pulse ID"
   ]
  },
  {
   "cell_type": "code",
   "execution_count": 20,
   "id": "1471b938-4e4c-49cd-b25f-aeb8dfc16cf0",
   "metadata": {},
   "outputs": [
    {
     "data": {
      "application/vnd.jupyter.widget-view+json": {
       "model_id": "ee4b24b8abd347d1a605ecea55ba02f1",
       "version_major": 2,
       "version_minor": 0
      },
      "text/plain": [
       "interactive(children=(SelectionSlider(description='Scint Entry:', options=(1, 3, 5, 6, 9, 12, 13, 16, 18, 20, …"
      ]
     },
     "metadata": {},
     "output_type": "display_data"
    }
   ],
   "source": [
    "from ipywidgets import interact\n",
    "import ipywidgets as widgets\n",
    "from IPython.display import display\n",
    "from matplotlib.offsetbox import AnchoredText\n",
    "\n",
    "\n",
    "runn = 501\n",
    "reader = Reader(config.BEACON_DATAPATH, runn)\n",
    "scintEntries = np.where(reader.loadTriggerTypes()==4)[0]\n",
    "\n",
    "entry = widgets.SelectionSlider(\n",
    "        options=scintEntries,\n",
    "        value=scintEntries[0],\n",
    "        description='Scint Entry:',\n",
    "        disabled=False,\n",
    "        continuous_update=True,\n",
    "        orientation='horizontal',\n",
    "    )\n",
    "\n",
    "t = reader.t()\n",
    "\n",
    "@interact(entry=entry)\n",
    "def run(entry):\n",
    "    reader.setEntry(entry)\n",
    "    fig, axes = plt.subplots(nrows=4, figsize=[30,15])\n",
    "    fig.suptitle(f'Run {runn} Event {entry}', fontsize=20)\n",
    "    fig.supxlabel('Time [ns]', fontsize=20)\n",
    "    fig.supylabel('Voltage [ADU]', fontsize=20)\n",
    "    \n",
    "    for j in range(4):\n",
    "        wfm = reader.wf(j)\n",
    "        ax = axes[j]\n",
    "    \n",
    "        inds, amps = utils.getPeaks(wfm)\n",
    "        rt, drt = utils.getRisetimes(t, wfm)\n",
    "        pulseInts, pulseInds, totalInt, posInt = utils.integratePulses(t, wfm)\n",
    "        \n",
    "        ax.plot(t, wfm)\n",
    "        ax.fill_between(t[wfm>=0], 0, wfm[wfm>=0], color='red', alpha=0.1)\n",
    "        \n",
    "        for num in range(len(inds)):\n",
    "            i = inds[num]\n",
    "            ax.scatter(t[inds[num]], amps[num], s=50, c='black')\n",
    "        \n",
    "            ax.plot(t[pulseInds[num]], wfm[pulseInds[num]], c='red')\n",
    "            # ax.fill_between(t[pulseInds[num]], wfm[pulseInds[num]], color='red', alpha=0.1)\n",
    "    \n",
    "            co = 'blue' if num == 0 else 'black'\n",
    "        \n",
    "            ymin, ymax = ax.get_ylim()\n",
    "            yrange = ymax - ymin\n",
    "            v = lambda y: (y-ymin)/(ymax-ymin)\n",
    "            vmin = v(amps[num]/2-0.4*yrange)\n",
    "            vmax = v(amps[num]/2+0.4*yrange)\n",
    "            ax.axvline(rt[num], ymin=0, ymax=1, color=co, ls=':', lw=3)\n",
    "            \n",
    "            ax.errorbar(rt[num], amps[num]/2, xerr=drt[num], capsize=6, color=co, lw=3, capthick=3)\n",
    "    \n",
    "            # ax.add_artist(AnchoredText(f'Amplitude: {amps[num]:0.0f} ADU',\n",
    "            #                            loc=\"lower left\", frameon=True, prop=dict(fontsize=20)))\n",
    "            # ax.add_artist(AnchoredText(f'Amplitudes: {\", \".join([\"{0:0.2f}\".format(am) for am in amps])} ADU', loc=\"lower left\", frameon=True, prop=dict(fontsize=30)))\n",
    "            ax.add_artist(AnchoredText(f'Positive Integration: {posInt:0.0f}', bbox_to_anchor=(0, 0.2), bbox_transform=ax.transAxes,\n",
    "                                       loc=\"lower left\", frameon=True, prop=dict(fontsize=20)))\n",
    "            ax.add_artist(AnchoredText(f'Risetimes: {\", \".join([\"{0:0.2f}+/-{1:0.2f}\".format(r, dr) for r, dr in zip(rt, drt)])}', loc=\"lower left\", frameon=True, prop=dict(fontsize=20)))\n",
    "    \n",
    "    fig.tight_layout(pad=2)"
   ]
  }
 ],
 "metadata": {
  "kernelspec": {
   "display_name": "Python 3 (ipykernel)",
   "language": "python",
   "name": "python3"
  },
  "language_info": {
   "codemirror_mode": {
    "name": "ipython",
    "version": 3
   },
   "file_extension": ".py",
   "mimetype": "text/x-python",
   "name": "python",
   "nbconvert_exporter": "python",
   "pygments_lexer": "ipython3",
   "version": "3.11.6"
  }
 },
 "nbformat": 4,
 "nbformat_minor": 5
}
